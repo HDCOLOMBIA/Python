{
 "cells": [
  {
   "cell_type": "code",
   "execution_count": 6,
   "metadata": {},
   "outputs": [],
   "source": [
    "# n = 'Hola monda'\n",
    "# print(n)"
   ]
  },
  {
   "cell_type": "code",
   "execution_count": 7,
   "metadata": {},
   "outputs": [],
   "source": [
    "# print(((3 + 2) / (2 * 5)) ** 2)"
   ]
  },
  {
   "cell_type": "code",
   "execution_count": 6,
   "metadata": {},
   "outputs": [
    {
     "name": "stdout",
     "output_type": "stream",
     "text": [
      "Para el tiempo que trabaja que son 8 horas y el precio por hora que es 25000.0, su valor total es 200000.0 pesos\n"
     ]
    }
   ],
   "source": [
    "hours = float(input('¿Cuntàs horas trabajas al dìa?'))\n",
    "costHours = float(input('¿Que cuesta la hora de trabajo?'))\n",
    "\n",
    "print(f'Para el tiempo que trabaja que son {int(hours)} horas y el precio por hora que es {costHours}, su valor total es {(hours*costHours)} pesos')"
   ]
  }
 ],
 "metadata": {
  "kernelspec": {
   "display_name": "Python 3",
   "language": "python",
   "name": "python3"
  },
  "language_info": {
   "codemirror_mode": {
    "name": "ipython",
    "version": 3
   },
   "file_extension": ".py",
   "mimetype": "text/x-python",
   "name": "python",
   "nbconvert_exporter": "python",
   "pygments_lexer": "ipython3",
   "version": "3.11.1"
  },
  "orig_nbformat": 4,
  "vscode": {
   "interpreter": {
    "hash": "ead1b95f633dc9c51826328e1846203f51a198c6fb5f2884a80417ba131d4e82"
   }
  }
 },
 "nbformat": 4,
 "nbformat_minor": 2
}
